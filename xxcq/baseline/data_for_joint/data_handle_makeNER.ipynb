{
 "cells": [
  {
   "cell_type": "code",
   "execution_count": 1,
   "metadata": {
    "collapsed": true
   },
   "outputs": [],
   "source": [
    "import json\n",
    "import os\n",
    "from torch.utils.data.dataset import random_split\n",
    "import csv\n",
    "\n"
   ]
  },
  {
   "cell_type": "code",
   "execution_count": 2,
   "metadata": {
    "collapsed": true
   },
   "outputs": [],
   "source": [
    "# 使用list()切词，以字符为单位 BIOES\n",
    "with open('train.sent','rt',encoding='utf-8') as fin1,open('train.pointer','rt',encoding='utf-8') as fin2,\\\n",
    "open('train.ner','w',newline='',encoding='utf-8') as ftrs:\n",
    "    count=0\n",
    "#     train_=[]\n",
    "    for line1,line2 in zip(fin1,fin2):\n",
    "        line1 = line1.strip()\n",
    "#         train_.append(line1)\n",
    "        if len(line1)>256:\n",
    "            count+=1\n",
    "        line2=line2.strip().split('|')\n",
    "        if not line1:\n",
    "            continue  #结束则跳出循环\n",
    "        res=['O'for i in range(len(line1))]\n",
    "        for temp in line2:\n",
    "            t=temp.split()\n",
    "            e1s=int(t[0])\n",
    "            e1e=int(t[1])\n",
    "            e2s=int(t[2])\n",
    "            e2e=int(t[3])\n",
    "            if t[4]=='sell_drugs_to' or t[4]=='provide_shelter_for':\n",
    "                if(e1s==e1e):\n",
    "                    res[e1s]='S'\n",
    "                else:\n",
    "                    res[e1s]='B'\n",
    "                if(e2s==e2e):\n",
    "                    res[e2s]='S'\n",
    "                else:\n",
    "                    res[e2s]='B'\n",
    "                for i in range(e1s+1,e1e):\n",
    "                    res[i]='I'\n",
    "                for i in range(e2s+1,e2e):\n",
    "                    res[i]='I'\n",
    "                res[e1e]='E'\n",
    "                res[e2e]='E'\n",
    "            elif t[4]=='posess' or t[4]=='traffic_in':\n",
    "                if(e1s==e1e):\n",
    "                    res[e1s]='S'\n",
    "                else:\n",
    "                    res[e1s]='B'\n",
    "                if(e2s==e2e):\n",
    "                    res[e2s]='S'\n",
    "                else:\n",
    "                    res[e2s]='B'\n",
    "                for i in range(e1s+1,e1e):\n",
    "                    res[i]='I'\n",
    "                for i in range(e2s+1,e2e):\n",
    "                    res[i]='I'\n",
    "                res[e1e]='E'\n",
    "                res[e2e]='E'\n",
    "        ftrs.write(' '.join(res)+'\\n')\n",
    "#         train_.append(line1)\n",
    "#         print(line1,line2,res)\n",
    "#         break\n",
    "        \n",
    "#     train_size=len(train_)\n",
    "#     val_size = int(0.25 * len(train_))\n",
    "#     train_,val_= random_split(train_, [train_size-val_size,val_size])\n",
    "#     train_=list(train_)\n",
    "#     val_=list(val_)\n",
    "    \n",
    "#     for tr in train_:\n",
    "#         sentence_text=tr[\"sentText\"].strip().strip('\"')\n",
    "#         ftrs.write(sentence_text+'\\n')\n",
    "#         pointer=[]\n",
    "#         for relation in tr['relationMentions']:\n",
    "#             e1start=relation['e1start']\n",
    "#             e1end=e1start+len(relation['em1Text'])-1\n",
    "#             e2start=relation['e21start']\n",
    "#             e2end=e2start+len(relation['em2Text'])-1\n",
    "#             re_type=relation['label']\n",
    "#             if re_type=='NA':\n",
    "#                 continue\n",
    "#             if e1end>512 or e2end>512:\n",
    "#                 continue\n",
    "#             e1start=str(e1start)\n",
    "#             e1end=str(e1end)\n",
    "#             e2start=str(e2start)\n",
    "#             e2end=str(e2end)\n",
    "            \n",
    "#             pointer.append(' '.join([e1start,e1end,e2start,e2end,re_type]))\n",
    "#         ftrp.write(' | '.join(pointer)+'\\n')\n",
    "           \n",
    "    "
   ]
  },
  {
   "cell_type": "code",
   "execution_count": 3,
   "metadata": {},
   "outputs": [
    {
     "name": "stdout",
     "output_type": "stream",
     "text": [
      "154\n"
     ]
    }
   ],
   "source": [
    "# print(len(train_))\n",
    "print(count)"
   ]
  },
  {
   "cell_type": "code",
   "execution_count": 4,
   "metadata": {
    "collapsed": true
   },
   "outputs": [],
   "source": [
    "# 使用list()切词，以字符为单位\n",
    "with open('dev.sent','rt',encoding='utf-8') as fin1,open('dev.pointer','rt',encoding='utf-8') as fin2,\\\n",
    "open('dev.ner','w',newline='',encoding='utf-8') as ftrs:\n",
    "\n",
    "#     train_=[]\n",
    "    for line1,line2 in zip(fin1,fin2):\n",
    "        line1 = line1.strip()\n",
    "        line2=line2.strip().split('|')\n",
    "        if not line1:\n",
    "            continue  #结束则跳出循环\n",
    "        res=['O'for i in range(len(line1))]\n",
    "        for temp in line2:\n",
    "            t=temp.split()\n",
    "            e1s=int(t[0])\n",
    "            e1e=int(t[1])\n",
    "            e2s=int(t[2])\n",
    "            e2e=int(t[3])\n",
    "            if t[4]=='sell_drugs_to' or t[4]=='provide_shelter_for':\n",
    "                if(e1s==e1e):\n",
    "                    res[e1s]='S'\n",
    "                else:\n",
    "                    res[e1s]='B'\n",
    "                if(e2s==e2e):\n",
    "                    res[e2s]='S'\n",
    "                else:\n",
    "                    res[e2s]='B'\n",
    "                for i in range(e1s+1,e1e):\n",
    "                    res[i]='I'\n",
    "                for i in range(e2s+1,e2e):\n",
    "                    res[i]='I'\n",
    "                res[e1e]='E'\n",
    "                res[e2e]='E'\n",
    "            elif t[4]=='posess' or t[4]=='traffic_in':\n",
    "                if(e1s==e1e):\n",
    "                    res[e1s]='S'\n",
    "                else:\n",
    "                    res[e1s]='B'\n",
    "                if(e2s==e2e):\n",
    "                    res[e2s]='S'\n",
    "                else:\n",
    "                    res[e2s]='B'\n",
    "                for i in range(e1s+1,e1e):\n",
    "                    res[i]='I'\n",
    "                for i in range(e2s+1,e2e):\n",
    "                    res[i]='I'\n",
    "                res[e1e]='E'\n",
    "                res[e2e]='E'\n",
    "        ftrs.write(' '.join(res)+'\\n')"
   ]
  },
  {
   "cell_type": "code",
   "execution_count": 6,
   "metadata": {
    "collapsed": true
   },
   "outputs": [],
   "source": [
    "# 使用list()切词，以字符为单位\n",
    "with open('test.sent','rt',encoding='utf-8') as fin1,open('test.pointer','rt',encoding='utf-8') as fin2,\\\n",
    "open('test.ner','w',newline='',encoding='utf-8') as ftrs:\n",
    "    count=0\n",
    "#     train_=[]\n",
    "    for line1,line2 in zip(fin1,fin2):\n",
    "        line1 = line1.strip()\n",
    "        line2=line2.strip().split('|')\n",
    "        \n",
    "        count+=1\n",
    "        if not line1:\n",
    "            continue  #结束则跳出循环\n",
    "        res=['O'for i in range(len(line1))]\n",
    "        for temp in line2:\n",
    "            t=temp.split()\n",
    "            e1s=int(t[0])\n",
    "            e1e=int(t[1])\n",
    "            e2s=int(t[2])\n",
    "            e2e=int(t[3])\n",
    "            if t[4]=='sell_drugs_to' or t[4]=='provide_shelter_for':\n",
    "                if(e1s==e1e):\n",
    "                    res[e1s]='S'\n",
    "                else:\n",
    "                    res[e1s]='B'\n",
    "                if(e2s==e2e):\n",
    "                    res[e2s]='S'\n",
    "                else:\n",
    "                    res[e2s]='B'\n",
    "                for i in range(e1s+1,e1e):\n",
    "                    res[i]='I'\n",
    "                for i in range(e2s+1,e2e):\n",
    "                    res[i]='I'\n",
    "                res[e1e]='E'\n",
    "                res[e2e]='E'\n",
    "            elif t[4]=='posess' or t[4]=='traffic_in':\n",
    "                if(e1s==e1e):\n",
    "                    res[e1s]='S'\n",
    "                else:\n",
    "                    res[e1s]='B'\n",
    "                if(e2s==e2e):\n",
    "                    res[e2s]='S'\n",
    "                else:\n",
    "                    res[e2s]='B'\n",
    "                for i in range(e1s+1,e1e):\n",
    "                    res[i]='I'\n",
    "                for i in range(e2s+1,e2e):\n",
    "                    res[i]='I'\n",
    "                res[e1e]='E'\n",
    "                res[e2e]='E'\n",
    "        ftrs.write(' '.join(res)+'\\n')"
   ]
  },
  {
   "cell_type": "code",
   "execution_count": 5,
   "metadata": {},
   "outputs": [
    {
     "data": {
      "text/plain": [
       "353"
      ]
     },
     "execution_count": 5,
     "metadata": {},
     "output_type": "execute_result"
    }
   ],
   "source": [
    "count"
   ]
  },
  {
   "cell_type": "code",
   "execution_count": 27,
   "metadata": {},
   "outputs": [
    {
     "data": {
      "text/plain": [
       "'1 2 3'"
      ]
     },
     "execution_count": 27,
     "metadata": {},
     "output_type": "execute_result"
    }
   ],
   "source": [
    "' '.join([str(1),str(2),str(3)])"
   ]
  },
  {
   "cell_type": "code",
   "execution_count": null,
   "metadata": {
    "collapsed": true
   },
   "outputs": [],
   "source": []
  },
  {
   "cell_type": "code",
   "execution_count": 29,
   "metadata": {
    "collapsed": true
   },
   "outputs": [],
   "source": [
    "with open('train.sent','rt',encoding='utf-8') as fin1,open('train.pointer','rt',encoding='utf-8') as fin2,\\\n",
    "open('lexicon_simple.txt','w',newline='',encoding='utf-8') as ftrs:\n",
    "    lexicon=set()\n",
    "#     train_=[]\n",
    "    for line1,line2 in zip(fin1,fin2):\n",
    "        line1 = line1.strip()\n",
    "        line2=line2.strip().split('|')\n",
    "        \n",
    "        for temp in line2:\n",
    "            t=temp.split()\n",
    "            e1s=int(t[0])\n",
    "            e1e=int(t[1])\n",
    "            e2s=int(t[2])\n",
    "            e2e=int(t[3])\n",
    "            \n",
    "            if t[4]=='posess' or t[4]=='traffic_in':\n",
    "                drug=line1[e2s:e2e+1]\n",
    "                lexicon.add(drug)\n",
    "    for s in lexicon:\n",
    "        ftrs.write(s+'\\n')"
   ]
  },
  {
   "cell_type": "code",
   "execution_count": null,
   "metadata": {
    "collapsed": true
   },
   "outputs": [],
   "source": []
  },
  {
   "cell_type": "code",
   "execution_count": null,
   "metadata": {
    "collapsed": true
   },
   "outputs": [],
   "source": []
  },
  {
   "cell_type": "code",
   "execution_count": 13,
   "metadata": {
    "collapsed": true
   },
   "outputs": [],
   "source": [
    "# 使用list()切词，以字符为单位  BIO\n",
    "with open('train.sent','rt',encoding='utf-8') as fin1,open('train.pointer','rt',encoding='utf-8') as fin2,\\\n",
    "open('train.ner','w',newline='',encoding='utf-8') as ftrs:\n",
    "    count=0\n",
    "#     train_=[]\n",
    "    for line1,line2 in zip(fin1,fin2):\n",
    "        line1 = line1.strip()\n",
    "#         train_.append(line1)\n",
    "        if len(line1)>256:\n",
    "            count+=1\n",
    "        line2=line2.strip().split('|')\n",
    "        if not line1:\n",
    "            continue  #结束则跳出循环\n",
    "        res=['O'for i in range(len(line1))]\n",
    "        for temp in line2:\n",
    "            t=temp.split()\n",
    "            e1s=int(t[0])\n",
    "            e1e=int(t[1])\n",
    "            e2s=int(t[2])\n",
    "            e2e=int(t[3])\n",
    "            if t[4]=='sell_drugs_to' or t[4]=='provide_shelter_for':\n",
    "                res[e1s]='B'\n",
    "                res[e2s]='B'\n",
    "                for i in range(e1s+1,e1e+1):\n",
    "                    res[i]='I'\n",
    "                for i in range(e2s+1,e2e+1):\n",
    "                    res[i]='I'\n",
    "            elif t[4]=='posess' or t[4]=='traffic_in':\n",
    "                res[e1s]='B'\n",
    "                res[e2s]='B'\n",
    "                for i in range(e1s+1,e1e+1):\n",
    "                    res[i]='I'\n",
    "                for i in range(e2s+1,e2e+1):\n",
    "                    res[i]='I'\n",
    "        ftrs.write(' '.join(res)+'\\n')\n",
    "#         train_.append(line1)\n",
    "#         print(line1,line2,res)\n",
    "#         break\n",
    "        \n",
    "#     train_size=len(train_)\n",
    "#     val_size = int(0.25 * len(train_))\n",
    "#     train_,val_= random_split(train_, [train_size-val_size,val_size])\n",
    "#     train_=list(train_)\n",
    "#     val_=list(val_)\n",
    "    \n",
    "#     for tr in train_:\n",
    "#         sentence_text=tr[\"sentText\"].strip().strip('\"')\n",
    "#         ftrs.write(sentence_text+'\\n')\n",
    "#         pointer=[]\n",
    "#         for relation in tr['relationMentions']:\n",
    "#             e1start=relation['e1start']\n",
    "#             e1end=e1start+len(relation['em1Text'])-1\n",
    "#             e2start=relation['e21start']\n",
    "#             e2end=e2start+len(relation['em2Text'])-1\n",
    "#             re_type=relation['label']\n",
    "#             if re_type=='NA':\n",
    "#                 continue\n",
    "#             if e1end>512 or e2end>512:\n",
    "#                 continue\n",
    "#             e1start=str(e1start)\n",
    "#             e1end=str(e1end)\n",
    "#             e2start=str(e2start)\n",
    "#             e2end=str(e2end)\n",
    "            \n",
    "#             pointer.append(' '.join([e1start,e1end,e2start,e2end,re_type]))\n",
    "#         ftrp.write(' | '.join(pointer)+'\\n')\n",
    "           \n",
    "    "
   ]
  },
  {
   "cell_type": "code",
   "execution_count": 15,
   "metadata": {
    "collapsed": true
   },
   "outputs": [],
   "source": [
    "# 使用list()切词，以字符为单位  BIO\n",
    "with open('dev.sent','rt',encoding='utf-8') as fin1,open('dev.pointer','rt',encoding='utf-8') as fin2,\\\n",
    "open('dev.ner','w',newline='',encoding='utf-8') as ftrs:\n",
    "\n",
    "#     train_=[]\n",
    "    for line1,line2 in zip(fin1,fin2):\n",
    "        line1 = line1.strip()\n",
    "        line2=line2.strip().split('|')\n",
    "        if not line1:\n",
    "            continue  #结束则跳出循环\n",
    "        res=['O'for i in range(len(line1))]\n",
    "        for temp in line2:\n",
    "            t=temp.split()\n",
    "            e1s=int(t[0])\n",
    "            e1e=int(t[1])\n",
    "            e2s=int(t[2])\n",
    "            e2e=int(t[3])\n",
    "            if t[4]=='sell_drugs_to' or t[4]=='provide_shelter_for':\n",
    "                res[e1s]='B'\n",
    "                res[e2s]='B'\n",
    "                for i in range(e1s+1,e1e+1):\n",
    "                    res[i]='I'\n",
    "                for i in range(e2s+1,e2e+1):\n",
    "                    res[i]='I'\n",
    "            elif t[4]=='posess' or t[4]=='traffic_in':\n",
    "                res[e1s]='B'\n",
    "                res[e2s]='B'\n",
    "                for i in range(e1s+1,e1e+1):\n",
    "                    res[i]='I'\n",
    "                for i in range(e2s+1,e2e+1):\n",
    "                    res[i]='I'\n",
    "        ftrs.write(' '.join(res)+'\\n')"
   ]
  },
  {
   "cell_type": "code",
   "execution_count": 16,
   "metadata": {
    "collapsed": true
   },
   "outputs": [],
   "source": [
    "# 使用list()切词，以字符为单位 BIO\n",
    "with open('test.sent','rt',encoding='utf-8') as fin1,open('test.pointer','rt',encoding='utf-8') as fin2,\\\n",
    "open('test.ner','w',newline='',encoding='utf-8') as ftrs:\n",
    "    count=0\n",
    "#     train_=[]\n",
    "    for line1,line2 in zip(fin1,fin2):\n",
    "        line1 = line1.strip()\n",
    "        line2=line2.strip().split('|')\n",
    "        \n",
    "        count+=1\n",
    "        if not line1:\n",
    "            continue  #结束则跳出循环\n",
    "        res=['O'for i in range(len(line1))]\n",
    "        for temp in line2:\n",
    "            t=temp.split()\n",
    "            e1s=int(t[0])\n",
    "            e1e=int(t[1])\n",
    "            e2s=int(t[2])\n",
    "            e2e=int(t[3])\n",
    "            if t[4]=='sell_drugs_to' or t[4]=='provide_shelter_for':\n",
    "                res[e1s]='B'\n",
    "                res[e2s]='B'\n",
    "                for i in range(e1s+1,e1e+1):\n",
    "                    res[i]='I'\n",
    "                for i in range(e2s+1,e2e+1):\n",
    "                    res[i]='I'\n",
    "            elif t[4]=='posess' or t[4]=='traffic_in':\n",
    "                res[e1s]='B'\n",
    "                res[e2s]='B'\n",
    "                for i in range(e1s+1,e1e+1):\n",
    "                    res[i]='I'\n",
    "                for i in range(e2s+1,e2e+1):\n",
    "                    res[i]='I'\n",
    "        ftrs.write(' '.join(res)+'\\n')"
   ]
  }
 ],
 "metadata": {
  "anaconda-cloud": {},
  "kernelspec": {
   "display_name": "Python 3",
   "language": "python",
   "name": "python3"
  },
  "language_info": {
   "codemirror_mode": {
    "name": "ipython",
    "version": 3
   },
   "file_extension": ".py",
   "mimetype": "text/x-python",
   "name": "python",
   "nbconvert_exporter": "python",
   "pygments_lexer": "ipython3",
   "version": "3.7.6"
  },
  "toc": {
   "base_numbering": 1,
   "nav_menu": {},
   "number_sections": true,
   "sideBar": true,
   "skip_h1_title": false,
   "title_cell": "Table of Contents",
   "title_sidebar": "Contents",
   "toc_cell": false,
   "toc_position": {},
   "toc_section_display": true,
   "toc_window_display": false
  }
 },
 "nbformat": 4,
 "nbformat_minor": 2
}
